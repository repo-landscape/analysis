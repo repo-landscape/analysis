{
 "cells": [
  {
   "cell_type": "markdown",
   "metadata": {},
   "source": [
    "# Analysing the ontology from the OpenAIRE Research Graph\n",
    "\n",
    "We will try to understand how classes and properties from the OpenAIRE ontology are actually used in the Research Graph."
   ]
  },
  {
   "cell_type": "markdown",
   "metadata": {},
   "source": [
    "## Classes\n",
    "\n",
    "### Listing all classes\n",
    "\n",
    "Let's create a list of all classes in the Research Graph.\n",
    "\n",
    "First, we will try to list all entities of type `rdfs:Class`."
   ]
  },
  {
   "cell_type": "code",
   "execution_count": 1,
   "metadata": {},
   "outputs": [],
   "source": [
    "from SPARQLWrapper import SPARQLWrapper, JSON\n",
    "\n",
    "sparql = SPARQLWrapper(\"http://lod.openaire.eu/sparql\")\n",
    "\n",
    "query = \"\"\"\n",
    "SELECT ?class\n",
    "WHERE {\n",
    "    ?class a rdfs:Class.\n",
    "}\n",
    "\"\"\"\n",
    "\n",
    "sparql.setReturnFormat(JSON)\n",
    "\n",
    "sparql.setQuery(query)\n",
    "\n",
    "results = sparql.query().convert()\n",
    "\n",
    "graph_classes = []\n",
    "\n",
    "for result in results[\"results\"][\"bindings\"]:\n",
    "    d = {}\n",
    "    d[\"URI\"] = result[\"class\"][\"value\"]\n",
    "    graph_classes.append(d)\n",
    "\n",
    "# The following list will be necessary later, to exclude duplicates.\n",
    "graph_classes_results_1 = []\n",
    "for result in results[\"results\"][\"bindings\"]:\n",
    "    graph_classes_results_1.append(result[\"class\"][\"value\"])"
   ]
  },
  {
   "cell_type": "markdown",
   "metadata": {},
   "source": [
    "We can try the same thing with `owl:Class`, but the results are not relevant and can be discarded."
   ]
  },
  {
   "cell_type": "code",
   "execution_count": 2,
   "metadata": {},
   "outputs": [
    {
     "name": "stdout",
     "output_type": "stream",
     "text": [
      "http://www.w3.org/2002/07/owl#Thing\n",
      "http://www.w3.org/2002/07/owl#Nothing\n",
      "nodeID://b10001\n",
      "nodeID://b136512\n",
      "nodeID://b1609135\n",
      "nodeID://b1609139\n",
      "nodeID://b1609142\n",
      "nodeID://b1609145\n",
      "nodeID://b1609148\n",
      "nodeID://b1609151\n",
      "nodeID://b1609154\n",
      "nodeID://b1609157\n",
      "nodeID://b1609160\n",
      "nodeID://b1609163\n",
      "nodeID://b1609169\n",
      "nodeID://b1609173\n"
     ]
    }
   ],
   "source": [
    "query = \"\"\"\n",
    "SELECT ?class\n",
    "WHERE {\n",
    "    ?class a owl:Class.\n",
    "}\n",
    "\"\"\"\n",
    "\n",
    "sparql.setReturnFormat(JSON)\n",
    "\n",
    "sparql.setQuery(query)\n",
    "\n",
    "results = sparql.query().convert()\n",
    "\n",
    "for result in results[\"results\"][\"bindings\"]:\n",
    "    print(result[\"class\"][\"value\"])"
   ]
  },
  {
   "cell_type": "markdown",
   "metadata": {},
   "source": [
    "Now, we will try to find other classes by looking for the objects of property `rdf:type`."
   ]
  },
  {
   "cell_type": "code",
   "execution_count": 3,
   "metadata": {},
   "outputs": [],
   "source": [
    "query = \"\"\"\n",
    "SELECT DISTINCT ?type\n",
    "WHERE {\n",
    "    ?s a ?type.\n",
    "}\n",
    "\"\"\"\n",
    "\n",
    "sparql.setReturnFormat(JSON)\n",
    "\n",
    "sparql.setQuery(query)\n",
    "\n",
    "results = sparql.query().convert()\n",
    "\n",
    "for result in results[\"results\"][\"bindings\"]:\n",
    "    if result[\"type\"][\"value\"] not in graph_classes_results_1:\n",
    "        d = {}\n",
    "        d[\"URI\"] = result[\"type\"][\"value\"]\n",
    "        graph_classes.append(d)"
   ]
  },
  {
   "cell_type": "markdown",
   "metadata": {},
   "source": [
    "### Checking counts of these classes"
   ]
  },
  {
   "cell_type": "code",
   "execution_count": 4,
   "metadata": {},
   "outputs": [],
   "source": [
    "for class_dictionary in graph_classes:\n",
    "    query = f\"\"\"\n",
    "    SELECT COUNT(?s) AS ?cnt\n",
    "    WHERE {{\n",
    "    ?s a <{class_dictionary[\"URI\"]}>.\n",
    "    }}\n",
    "    \"\"\"\n",
    "    sparql.setReturnFormat(JSON)\n",
    "    sparql.setQuery(query)\n",
    "    results = sparql.query().convert()\n",
    "    for result in results[\"results\"][\"bindings\"]:\n",
    "        class_dictionary[\"cnt\"] = int(result[\"cnt\"][\"value\"])"
   ]
  },
  {
   "cell_type": "markdown",
   "metadata": {},
   "source": [
    "### Looking for predicates and objects of these classes"
   ]
  },
  {
   "cell_type": "code",
   "execution_count": 5,
   "metadata": {},
   "outputs": [],
   "source": [
    "for class_dictionary in graph_classes:\n",
    "    query = f\"\"\"\n",
    "    SELECT *\n",
    "    WHERE {{\n",
    "        <{class_dictionary[\"URI\"]}> ?p ?o\n",
    "    }}\n",
    "    \"\"\"\n",
    "    sparql.setReturnFormat(JSON)\n",
    "    sparql.setQuery(query)\n",
    "    results = sparql.query().convert()\n",
    "    for result in results[\"results\"][\"bindings\"]:\n",
    "        if result[\"p\"][\"value\"] in class_dictionary:\n",
    "            if type(class_dictionary[result[\"p\"][\"value\"]]) is list:\n",
    "                class_dictionary[result[\"p\"][\"value\"]].append(result[\"o\"][\"value\"])\n",
    "            else:\n",
    "                class_dictionary[result[\"p\"][\"value\"]] = [class_dictionary[result[\"p\"][\"value\"]],]\n",
    "                class_dictionary[result[\"p\"][\"value\"]].append(result[\"o\"][\"value\"])\n",
    "        else:\n",
    "            class_dictionary[result[\"p\"][\"value\"]] = result[\"o\"][\"value\"]"
   ]
  },
  {
   "cell_type": "markdown",
   "metadata": {},
   "source": [
    "### Analyzing the instances of these classes"
   ]
  },
  {
   "cell_type": "code",
   "execution_count": 6,
   "metadata": {},
   "outputs": [],
   "source": [
    "import re\n",
    "\n",
    "for class_dictionary in graph_classes:\n",
    "    query = f\"\"\"\n",
    "    SELECT ?s\n",
    "    WHERE {{\n",
    "        ?s a <{class_dictionary[\"URI\"]}>\n",
    "    }}\n",
    "    \"\"\"\n",
    "    sparql.setReturnFormat(JSON)\n",
    "    sparql.setQuery(query)\n",
    "    results = sparql.query().convert()\n",
    "    for result in results[\"results\"][\"bindings\"]:\n",
    "        base_uri = re.sub(r\"(.+/).*\", r\"\\1\", result[\"s\"][\"value\"])\n",
    "        if \"Examples (base URI)\" in class_dictionary:\n",
    "            if type(class_dictionary[\"Examples (base URI)\"]) is list:\n",
    "                if base_uri not in class_dictionary[\"Examples (base URI)\"]:\n",
    "                    class_dictionary[\"Examples (base URI)\"].append(base_uri)\n",
    "            else:\n",
    "                class_dictionary[\"Examples (base URI)\"] = [class_dictionary[\"Examples (base URI)\"],]\n",
    "                if base_uri not in class_dictionary[\"Examples (base URI)\"]:\n",
    "                    class_dictionary[\"Examples (base URI)\"].append(base_uri)\n",
    "        else:\n",
    "            class_dictionary[\"Examples (base URI)\"] = base_uri"
   ]
  },
  {
   "cell_type": "markdown",
   "metadata": {},
   "source": [
    "Let's import everything into a DataFrame and export as CSV."
   ]
  },
  {
   "cell_type": "code",
   "execution_count": 7,
   "metadata": {},
   "outputs": [],
   "source": [
    "import pandas as pd\n",
    "\n",
    "classes_df = pd.DataFrame(graph_classes)\n",
    "\n",
    "classes_df.to_csv(\"graph_classes.csv\")"
   ]
  },
  {
   "cell_type": "markdown",
   "metadata": {},
   "source": [
    "## Properties\n",
    "\n",
    "Let's make a list of all properties present in the Research Graph, starting with instances of `rdf:Property`."
   ]
  },
  {
   "cell_type": "code",
   "execution_count": 8,
   "metadata": {},
   "outputs": [],
   "source": [
    "query = \"\"\"\n",
    "SELECT ?property\n",
    "WHERE {\n",
    "    ?property a rdf:Property.\n",
    "}\n",
    "\"\"\"\n",
    "\n",
    "sparql.setReturnFormat(JSON)\n",
    "\n",
    "sparql.setQuery(query)\n",
    "\n",
    "results = sparql.query().convert()\n",
    "\n",
    "graph_properties = []\n",
    "\n",
    "for result in results[\"results\"][\"bindings\"]:\n",
    "    d = {}\n",
    "    d[\"URI\"] = result[\"property\"][\"value\"]\n",
    "    graph_properties.append(d)\n",
    "\n",
    "# The following list will be necessary later, to exclude duplicates.\n",
    "graph_properties_results_1 = []\n",
    "for result in results[\"results\"][\"bindings\"]:\n",
    "    graph_properties_results_1.append(result[\"property\"][\"value\"])"
   ]
  },
  {
   "cell_type": "markdown",
   "metadata": {},
   "source": [
    "Now, we will try to find other properties by looking for predicates of triples."
   ]
  },
  {
   "cell_type": "code",
   "execution_count": 9,
   "metadata": {},
   "outputs": [],
   "source": [
    "query = \"\"\"\n",
    "SELECT DISTINCT ?p\n",
    "WHERE {\n",
    "    ?s ?p ?o.\n",
    "}\n",
    "\"\"\"\n",
    "\n",
    "sparql.setReturnFormat(JSON)\n",
    "\n",
    "sparql.setQuery(query)\n",
    "\n",
    "results = sparql.query().convert()\n",
    "\n",
    "for result in results[\"results\"][\"bindings\"]:\n",
    "    if result[\"p\"][\"value\"] not in graph_properties_results_1:\n",
    "        d = {}\n",
    "        d[\"URI\"] = result[\"p\"][\"value\"]\n",
    "        graph_properties.append(d)"
   ]
  },
  {
   "cell_type": "markdown",
   "metadata": {},
   "source": [
    "### Checking counts of these properties"
   ]
  },
  {
   "cell_type": "code",
   "execution_count": 10,
   "metadata": {},
   "outputs": [],
   "source": [
    "for property_dictionary in graph_properties:\n",
    "    query = f\"\"\"\n",
    "    SELECT COUNT(*) AS ?cnt\n",
    "    WHERE {{\n",
    "    ?s <{property_dictionary[\"URI\"]}> ?o.\n",
    "    }}\n",
    "    \"\"\"\n",
    "    sparql.setReturnFormat(JSON)\n",
    "    sparql.setQuery(query)\n",
    "    results = sparql.query().convert()\n",
    "    for result in results[\"results\"][\"bindings\"]:\n",
    "        property_dictionary[\"cnt\"] = int(result[\"cnt\"][\"value\"])"
   ]
  },
  {
   "cell_type": "markdown",
   "metadata": {},
   "source": [
    "### Looking for predicates and objects of these properties"
   ]
  },
  {
   "cell_type": "code",
   "execution_count": 11,
   "metadata": {},
   "outputs": [],
   "source": [
    "for property_dictionary in graph_properties:\n",
    "    query = f\"\"\"\n",
    "    SELECT *\n",
    "    WHERE {{\n",
    "        <{property_dictionary[\"URI\"]}> ?p ?o\n",
    "    }}\n",
    "    \"\"\"\n",
    "    sparql.setReturnFormat(JSON)\n",
    "    sparql.setQuery(query)\n",
    "    results = sparql.query().convert()\n",
    "    for result in results[\"results\"][\"bindings\"]:\n",
    "        if result[\"p\"][\"value\"] in property_dictionary:\n",
    "            if type(property_dictionary[result[\"p\"][\"value\"]]) is list:\n",
    "                property_dictionary[result[\"p\"][\"value\"]].append(result[\"o\"][\"value\"])\n",
    "            else:\n",
    "                property_dictionary[result[\"p\"][\"value\"]] = [property_dictionary[result[\"p\"][\"value\"]],]\n",
    "                property_dictionary[result[\"p\"][\"value\"]].append(result[\"o\"][\"value\"])\n",
    "        else:\n",
    "            property_dictionary[result[\"p\"][\"value\"]] = result[\"o\"][\"value\"]"
   ]
  },
  {
   "cell_type": "markdown",
   "metadata": {},
   "source": [
    "### Looking for domain and range of these properties"
   ]
  },
  {
   "cell_type": "markdown",
   "metadata": {},
   "source": [
    "Let's first check the domain of these properties."
   ]
  },
  {
   "cell_type": "code",
   "execution_count": 12,
   "metadata": {},
   "outputs": [],
   "source": [
    "for property_dictionary in graph_properties:\n",
    "    query = f\"\"\"\n",
    "    SELECT DISTINCT ?sclass\n",
    "    WHERE {{\n",
    "        ?s <{property_dictionary[\"URI\"]}> ?o.\n",
    "        ?s a ?sclass.\n",
    "    }}\n",
    "    \"\"\"\n",
    "    sparql.setReturnFormat(JSON)\n",
    "    sparql.setQuery(query)\n",
    "    results = sparql.query().convert()\n",
    "    for result in results[\"results\"][\"bindings\"]:\n",
    "        if \"Domain\" in property_dictionary:\n",
    "            if type(property_dictionary[\"Domain\"]) is list:\n",
    "                if result[\"sclass\"][\"value\"] not in property_dictionary[\"Domain\"]:\n",
    "                    property_dictionary[\"Domain\"].append(result[\"sclass\"][\"value\"])\n",
    "            else:\n",
    "                if property_dictionary[\"Domain\"] != result[\"sclass\"][\"value\"]:\n",
    "                    property_dictionary[\"Domain\"] = [property_dictionary[\"Domain\"],]\n",
    "                    property_dictionary[\"Domain\"].append(result[\"sclass\"][\"value\"])\n",
    "        else:\n",
    "            property_dictionary[\"Domain\"] = result[\"sclass\"][\"value\"]"
   ]
  },
  {
   "cell_type": "markdown",
   "metadata": {},
   "source": [
    "Now let's check the range."
   ]
  },
  {
   "cell_type": "code",
   "execution_count": 13,
   "metadata": {},
   "outputs": [],
   "source": [
    "for property_dictionary in graph_properties:\n",
    "    query = f\"\"\"\n",
    "    SELECT DISTINCT ?oclass\n",
    "    WHERE {{\n",
    "        ?s <{property_dictionary[\"URI\"]}> ?o.\n",
    "        ?o a ?oclass.\n",
    "    }}\n",
    "    \"\"\"\n",
    "    sparql.setReturnFormat(JSON)\n",
    "    sparql.setQuery(query)\n",
    "    results = sparql.query().convert()\n",
    "    for result in results[\"results\"][\"bindings\"]:\n",
    "        if \"Range\" in property_dictionary:\n",
    "            if type(property_dictionary[\"Range\"]) is list:\n",
    "                if result[\"oclass\"][\"value\"] not in property_dictionary[\"Range\"]:\n",
    "                    property_dictionary[\"Range\"].append(result[\"oclass\"][\"value\"])\n",
    "            else:\n",
    "                if property_dictionary[\"Range\"] != result[\"oclass\"][\"value\"]:\n",
    "                    property_dictionary[\"Range\"] = [property_dictionary[\"Range\"],]\n",
    "                    property_dictionary[\"Range\"].append(result[\"oclass\"][\"value\"])\n",
    "        else:\n",
    "            property_dictionary[\"Range\"] = result[\"oclass\"][\"value\"]"
   ]
  },
  {
   "cell_type": "markdown",
   "metadata": {},
   "source": [
    "Let's also check if these properties have literals as objects."
   ]
  },
  {
   "cell_type": "code",
   "execution_count": 14,
   "metadata": {},
   "outputs": [],
   "source": [
    "for property_dictionary in graph_properties:\n",
    "    query = f\"\"\"\n",
    "    ASK\n",
    "    {{\n",
    "        ?s <{property_dictionary[\"URI\"]}> ?o\n",
    "        FILTER(isLiteral(?o))\n",
    "    }}\n",
    "    \"\"\"\n",
    "    sparql.setReturnFormat(JSON)\n",
    "    sparql.setQuery(query)\n",
    "    results = sparql.query().convert()\n",
    "    property_dictionary[\"Literal?\"] = results[\"boolean\"]"
   ]
  },
  {
   "cell_type": "markdown",
   "metadata": {},
   "source": [
    "Let's import everything into a DataFrame and export as CSV."
   ]
  },
  {
   "cell_type": "code",
   "execution_count": null,
   "metadata": {},
   "outputs": [],
   "source": [
    "import pandas as pd\n",
    "\n",
    "properties_df = pd.DataFrame(graph_properties)\n",
    "\n",
    "properties_df.to_csv(\"graph_properties.csv\")"
   ]
  }
 ],
 "metadata": {
  "kernelspec": {
   "display_name": "Python 3.9.2 64-bit",
   "language": "python",
   "name": "python3"
  },
  "language_info": {
   "codemirror_mode": {
    "name": "ipython",
    "version": 3
   },
   "file_extension": ".py",
   "mimetype": "text/x-python",
   "name": "python",
   "nbconvert_exporter": "python",
   "pygments_lexer": "ipython3",
   "version": "3.9.2"
  },
  "orig_nbformat": 4,
  "vscode": {
   "interpreter": {
    "hash": "aee8b7b246df8f9039afb4144a1f6fd8d2ca17a180786b69acc140d282b71a49"
   }
  }
 },
 "nbformat": 4,
 "nbformat_minor": 2
}
